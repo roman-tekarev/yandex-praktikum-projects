{
 "cells": [
  {
   "cell_type": "markdown",
   "metadata": {},
   "source": [
    "# Выбор региона для разработки новых нефтяных месторождений"
   ]
  },
  {
   "cell_type": "markdown",
   "metadata": {},
   "source": [
    "Допустим, вы работаете в добывающей компании «ГлавРосГосНефть». Нужно решить, где бурить новую скважину.\n",
    "\n",
    "Вам предоставлены пробы нефти в трёх регионах: в каждом 10 000 месторождений, где измерили качество нефти и объём её запасов. Постройте модель машинного обучения, которая поможет определить регион, где добыча принесёт наибольшую прибыль. Проанализируйте возможную прибыль и риски техникой *Bootstrap.*\n",
    "\n",
    "Шаги для выбора локации:\n",
    "\n",
    "- В избранном регионе ищут месторождения, для каждого определяют значения признаков;\n",
    "- Строят модель и оценивают объём запасов;\n",
    "- Выбирают месторождения с самым высокими оценками значений. Количество месторождений зависит от бюджета компании и стоимости разработки одной скважины;\n",
    "- Прибыль равна суммарной прибыли отобранных месторождений.\n",
    "\n",
    "\n",
    "#### Часть 1. [Загрузка и подготовка данных](#part1)\n",
    "* [1. Импорт библиотек.](#part1.1)\n",
    "* [2. Загрузка датасетов](#part1.2)\n",
    "\n",
    "#### Часть 2. [Обучение и проверка модели](#part2)\n",
    "* [1. Разбиение данных на обучающую и валидационную выборки](#part2.1)\n",
    "* [2. Обучение модели.](#part2.2)\n",
    "\n",
    "#### Часть 3. [Подготовка к расчёту прибыли](#part3)\n",
    "\n",
    "#### Часть 4. [Расчет прибыли и рисков](#part4)\n",
    "\n",
    "#### Часть 5. [Общий вывод](#part5)\n"
   ]
  },
  {
   "cell_type": "markdown",
   "metadata": {},
   "source": [
    "<a id='part1'></a>\n",
    "# 1. Загрузка и подготовка данных\n",
    "<a id='part1.1'></a>\n",
    "## 1.1 Импорт билиотек"
   ]
  },
  {
   "cell_type": "code",
   "execution_count": 1,
   "metadata": {},
   "outputs": [],
   "source": [
    "import pandas as pd\n",
    "import numpy as np\n",
    "\n",
    "from sklearn.model_selection import train_test_split\n",
    "from sklearn.linear_model import LinearRegression\n",
    "from sklearn.metrics import mean_squared_error\n",
    "from scipy import stats as st\n",
    "from sklearn.utils import shuffle"
   ]
  },
  {
   "cell_type": "markdown",
   "metadata": {},
   "source": [
    "<a id='part1ю2'></a>\n",
    "## 1.2 Загрузка датасетов"
   ]
  },
  {
   "cell_type": "code",
   "execution_count": 2,
   "metadata": {},
   "outputs": [
    {
     "name": "stdout",
     "output_type": "stream",
     "text": [
      "<class 'pandas.core.frame.DataFrame'>\n",
      "RangeIndex: 100000 entries, 0 to 99999\n",
      "Data columns (total 5 columns):\n",
      "id         100000 non-null object\n",
      "f0         100000 non-null float64\n",
      "f1         100000 non-null float64\n",
      "f2         100000 non-null float64\n",
      "product    100000 non-null float64\n",
      "dtypes: float64(4), object(1)\n",
      "memory usage: 3.8+ MB\n",
      "<class 'pandas.core.frame.DataFrame'>\n",
      "RangeIndex: 100000 entries, 0 to 99999\n",
      "Data columns (total 5 columns):\n",
      "id         100000 non-null object\n",
      "f0         100000 non-null float64\n",
      "f1         100000 non-null float64\n",
      "f2         100000 non-null float64\n",
      "product    100000 non-null float64\n",
      "dtypes: float64(4), object(1)\n",
      "memory usage: 3.8+ MB\n",
      "<class 'pandas.core.frame.DataFrame'>\n",
      "RangeIndex: 100000 entries, 0 to 99999\n",
      "Data columns (total 5 columns):\n",
      "id         100000 non-null object\n",
      "f0         100000 non-null float64\n",
      "f1         100000 non-null float64\n",
      "f2         100000 non-null float64\n",
      "product    100000 non-null float64\n",
      "dtypes: float64(4), object(1)\n",
      "memory usage: 3.8+ MB\n"
     ]
    },
    {
     "data": {
      "text/html": [
       "<div>\n",
       "<style scoped>\n",
       "    .dataframe tbody tr th:only-of-type {\n",
       "        vertical-align: middle;\n",
       "    }\n",
       "\n",
       "    .dataframe tbody tr th {\n",
       "        vertical-align: top;\n",
       "    }\n",
       "\n",
       "    .dataframe thead th {\n",
       "        text-align: right;\n",
       "    }\n",
       "</style>\n",
       "<table border=\"1\" class=\"dataframe\">\n",
       "  <thead>\n",
       "    <tr style=\"text-align: right;\">\n",
       "      <th></th>\n",
       "      <th>id</th>\n",
       "      <th>f0</th>\n",
       "      <th>f1</th>\n",
       "      <th>f2</th>\n",
       "      <th>product</th>\n",
       "    </tr>\n",
       "  </thead>\n",
       "  <tbody>\n",
       "    <tr>\n",
       "      <td>0</td>\n",
       "      <td>txEyH</td>\n",
       "      <td>0.705745</td>\n",
       "      <td>-0.497823</td>\n",
       "      <td>1.221170</td>\n",
       "      <td>105.280062</td>\n",
       "    </tr>\n",
       "    <tr>\n",
       "      <td>1</td>\n",
       "      <td>2acmU</td>\n",
       "      <td>1.334711</td>\n",
       "      <td>-0.340164</td>\n",
       "      <td>4.365080</td>\n",
       "      <td>73.037750</td>\n",
       "    </tr>\n",
       "    <tr>\n",
       "      <td>2</td>\n",
       "      <td>409Wp</td>\n",
       "      <td>1.022732</td>\n",
       "      <td>0.151990</td>\n",
       "      <td>1.419926</td>\n",
       "      <td>85.265647</td>\n",
       "    </tr>\n",
       "    <tr>\n",
       "      <td>3</td>\n",
       "      <td>iJLyR</td>\n",
       "      <td>-0.032172</td>\n",
       "      <td>0.139033</td>\n",
       "      <td>2.978566</td>\n",
       "      <td>168.620776</td>\n",
       "    </tr>\n",
       "    <tr>\n",
       "      <td>4</td>\n",
       "      <td>Xdl7t</td>\n",
       "      <td>1.988431</td>\n",
       "      <td>0.155413</td>\n",
       "      <td>4.751769</td>\n",
       "      <td>154.036647</td>\n",
       "    </tr>\n",
       "  </tbody>\n",
       "</table>\n",
       "</div>"
      ],
      "text/plain": [
       "      id        f0        f1        f2     product\n",
       "0  txEyH  0.705745 -0.497823  1.221170  105.280062\n",
       "1  2acmU  1.334711 -0.340164  4.365080   73.037750\n",
       "2  409Wp  1.022732  0.151990  1.419926   85.265647\n",
       "3  iJLyR -0.032172  0.139033  2.978566  168.620776\n",
       "4  Xdl7t  1.988431  0.155413  4.751769  154.036647"
      ]
     },
     "metadata": {},
     "output_type": "display_data"
    }
   ],
   "source": [
    "data=[]\n",
    "for i in range (0,3):\n",
    "    data.append(pd.read_csv('/datasets/geo_data_'+str(i)+'.csv'))\n",
    "    data[i].info()\n",
    "display(data[0].head())"
   ]
  },
  {
   "cell_type": "markdown",
   "metadata": {},
   "source": [
    "## Вывод\n",
    "Библиотеки импортированы, данные загружены.\n",
    "Пропусков нет, предобработка не требуется."
   ]
  },
  {
   "cell_type": "markdown",
   "metadata": {},
   "source": [
    "<a id='part2'></a>\n",
    "# 2. Обучение и проверка модели\n",
    "<a id='part2.1'></a>\n",
    "## 2.1 Разбиение данных на обучающую и валидационную выборки"
   ]
  },
  {
   "cell_type": "code",
   "execution_count": 3,
   "metadata": {},
   "outputs": [],
   "source": [
    "features=[]\n",
    "target=[]\n",
    "features_train=[]\n",
    "features_valid=[]\n",
    "target_train=[]\n",
    "target_valid=[]\n",
    "\n",
    "for i in range (0,3):\n",
    "    \n",
    "    target.append(data[i]['product'])\n",
    "    features.append(data[i].drop(['product','id'], axis=1))\n",
    "    \n",
    "    features_train_i, features_valid_i, target_train_i, target_valid_i = train_test_split(\n",
    "    features[i], target[i], test_size=0.25, random_state=1)\n",
    "    \n",
    "    features_train.append(features_train_i.reset_index(drop=True))\n",
    "    features_valid.append(features_valid_i.reset_index(drop=True))\n",
    "    target_train.append(target_train_i.reset_index(drop=True))\n",
    "    target_valid.append(target_valid_i.reset_index(drop=True))"
   ]
  },
  {
   "cell_type": "markdown",
   "metadata": {},
   "source": [
    "<a id='part2.2'></a>\n",
    "## 2.2 Обучение модели"
   ]
  },
  {
   "cell_type": "code",
   "execution_count": 4,
   "metadata": {},
   "outputs": [
    {
     "name": "stdout",
     "output_type": "stream",
     "text": [
      "Регион 0\n",
      " Средний предсказанный запас: 92.5 тыс. баррелей\n",
      "RMSE: 37.7\n",
      "\n",
      "Регион 1\n",
      " Средний предсказанный запас: 69.1 тыс. баррелей\n",
      "RMSE: 0.9\n",
      "\n",
      "Регион 2\n",
      " Средний предсказанный запас: 95.0 тыс. баррелей\n",
      "RMSE: 39.9\n",
      "\n"
     ]
    }
   ],
   "source": [
    "predicted_valid=[]\n",
    "for i in range(0,3):\n",
    "    model = LinearRegression()\n",
    "    model.fit(features_train[i], target_train[i])\n",
    "    predicted_valid_i = model.predict(features_valid[i])\n",
    "    predicted_valid.append(predicted_valid_i)\n",
    "    print('Регион {}\\n Средний предсказанный запас: {:.1f} тыс. баррелей'.format(i, pd.Series(predicted_valid_i).mean()))\n",
    "    print('RMSE: {:.1f}\\n'.format(mean_squared_error(predicted_valid_i,target_valid[i])**0.5))"
   ]
  },
  {
   "cell_type": "markdown",
   "metadata": {},
   "source": [
    "## Вывод\n",
    "Данные разбиты на обучающую и валидационную выборки в соотношение 75:25.  \n",
    "Модель линейной регрессии обучена.  \n",
    "Средний предсказанный запас выше всего в регионах 0 и 2 с разницей в 2.5 тысячи баррелей.  \n",
    "В регионе 1 самая маленькая среднеквадратичная ошибка, что означает, что в нем получилась самая точная модель, но и средние предсказанные запасы самые маленькие."
   ]
  },
  {
   "cell_type": "markdown",
   "metadata": {},
   "source": [
    "<a id='part3'></a>\n",
    "# 3. Подготовка к расчёту прибыли"
   ]
  },
  {
   "cell_type": "code",
   "execution_count": 5,
   "metadata": {},
   "outputs": [
    {
     "name": "stdout",
     "output_type": "stream",
     "text": [
      "Для безубыточной разработки надо добыть 22222.2 тыс. баррелей\n",
      "При разработке 200 скважин средний объем скважины должен быть 111.1 тыс. баррелей\n"
     ]
    }
   ],
   "source": [
    "# Бюджет на разработку 10 млрд\n",
    "budget = 10000000000\n",
    "# Доход с 1 тыс баррелей 45 тыс\n",
    "income = 450000\n",
    "# Кол-во разрабатываемых скважин\n",
    "wells = 200\n",
    "# Сколько тыс баррелей надо для достижения безубыточности\n",
    "total_amount = budget/income\n",
    "# Сколько в среднем должно быть запасов в одной скважине\n",
    "mean_amount_per_well = total_amount/wells\n",
    "print('Для безубыточной разработки надо добыть {:.1f} тыс. баррелей'.format(total_amount))\n",
    "print('При разработке 200 скважин средний объем скважины должен быть {:.1f} тыс. баррелей'.format(mean_amount_per_well))"
   ]
  },
  {
   "cell_type": "code",
   "execution_count": 6,
   "metadata": {},
   "outputs": [
    {
     "name": "stdout",
     "output_type": "stream",
     "text": [
      "Прибыль в регионе 0 при разработке 200 скважин с наибольшими запасами\n",
      "3260781417.8\n",
      "\n",
      "Прибыль в регионе 1 при разработке 200 скважин с наибольшими запасами\n",
      "2415086696.7\n",
      "\n",
      "Прибыль в регионе 2 при разработке 200 скважин с наибольшими запасами\n",
      "2563093352.2\n",
      "\n"
     ]
    }
   ],
   "source": [
    "# Функция для расчета прибыли\n",
    "# Выбирает n скважин с наибольшими запасами из смоделированных данных\n",
    "# и возвращает полученную прибыль (суммарный доход - бюджет) из реальных данных\n",
    "def revenue(target,predicts,n,total_budget,income_per_well):\n",
    "\n",
    "    predicts_sorted = pd.Series(predicts).sort_values(ascending=False)\n",
    "    targets_selected = target[predicts_sorted.index].head(n).sum()\n",
    "\n",
    "    return targets_selected*income_per_well - total_budget\n",
    "\n",
    "for i in range(0,3):\n",
    "    print('Прибыль в регионе',i,'при разработке 200 скважин с наибольшими запасами')\n",
    "    print('{:.1f}\\n'.format(revenue(target_valid[i],predicted_valid[i],wells,budget,income)))"
   ]
  },
  {
   "cell_type": "markdown",
   "metadata": {},
   "source": [
    "## Вывод\n",
    "В каждом регионе средний запас скважины меньше запаса, необходимого для безубыточной разработки. Следовательно, нужно воспользоваться бутстрепом для определения наиболее прибыльного региона.  \n",
    "Для этого была написана функция для расчета прибыли от выбранного количества скважин.  \n",
    "Функция была проверена на 200 скважинах каждого региона с наибольшими запасами."
   ]
  },
  {
   "cell_type": "markdown",
   "metadata": {},
   "source": [
    "<a id='part4'></a>\n",
    "# 4. Расчёт прибыли и рисков "
   ]
  },
  {
   "cell_type": "code",
   "execution_count": 7,
   "metadata": {},
   "outputs": [
    {
     "name": "stdout",
     "output_type": "stream",
     "text": [
      "Регион 0\n",
      "Средняя прибыль: 464377670.4\n",
      "95%-ый доверительный интервал: 447036498.1, 481718842.6\n",
      "Дельта: 34682344.5\n",
      "Риск убытков: 5.2 %\n",
      "\n",
      "Регион 1\n",
      "Средняя прибыль: 541636803.4\n",
      "95%-ый доверительный интервал: 528122791.9, 555150814.9\n",
      "Дельта: 27028023.0\n",
      "Риск убытков: 0.4 %\n",
      "\n",
      "Регион 2\n",
      "Средняя прибыль: 420170371.3\n",
      "95%-ый доверительный интервал: 402746771.3, 437593971.4\n",
      "Дельта: 34847200.1\n",
      "Риск убытков: 6.7 %\n",
      "\n"
     ]
    }
   ],
   "source": [
    "state = np.random.RandomState(1)\n",
    "values1=[]\n",
    "for i in range(0,3):\n",
    "    values = []\n",
    "    count=0\n",
    "    # бутстпреп\n",
    "    for j in range(1000):\n",
    "        # по условию выбираем 500 случайных скважин\n",
    "        target_subsample = target_valid[i].sample(n=500,replace=True, random_state=state)\n",
    "        # находим по индексам соответствующие им предсказанные данные\n",
    "        predicted_subsample = pd.Series(predicted_valid[i])[target_subsample.index]\n",
    "        # считаем прибыль\n",
    "        values.append(revenue(target_subsample, predicted_subsample, wells,budget,income))\n",
    "        # для расчета рисков. Если прибыль отрицательная, счетчик +1\n",
    "        if revenue(target_subsample, predicted_subsample,wells,budget,income) < 0:\n",
    "            count+=1\n",
    "    \n",
    "    \n",
    "    values = pd.Series(values)\n",
    "    print('Регион', i)\n",
    "    print('Средняя прибыль: {:.1f}'.format(values.mean()))\n",
    "    \n",
    "    #Расчет доверительного интервала\n",
    "    alpha=0.95\n",
    "    df=len(values)-1\n",
    "    loc=values.mean()\n",
    "    scale=values.sem()\n",
    "    confidence_interval = st.t.interval(alpha,df,loc,scale)\n",
    "    print(\"95%-ый доверительный интервал: {:.1f}, {:.1f}\".format(confidence_interval[0],confidence_interval[1]))\n",
    "    print('Дельта: {:.1f}'.format(confidence_interval[1]-confidence_interval[0]))\n",
    "    print('Риск убытков:',count/10,'%\\n')    "
   ]
  },
  {
   "cell_type": "markdown",
   "metadata": {},
   "source": [
    "## Вывод\n",
    "Проведен бутстреп для каждого региона (1000 раз было выбрано 500 скважин, далее для 200 скважин с наибольшими запасами была посчитана средняя прибыль, 95-% доверительный интервал и риск убытков."
   ]
  },
  {
   "cell_type": "markdown",
   "metadata": {},
   "source": [
    "<a id='part5'></a>\n",
    "# Общий вывод\n",
    "\n",
    "В результате работы были изучены данные и обучены модели для предсказания запасов в скважинах.\n",
    "\n",
    "С помощью процедуры Bootstrap для 1000 выборок были найдены распределения прибыли для каждого региона для 200 из 500 случайно выбранных скважин.\n",
    "\n",
    "В итоге, в регионе 1, несмотря на наименьшие средние предсказанные запасы, оказалась самая высокая средняя прибыль (541 млн), наименьший риск убытков (0.4%) и самый маленький разброс внутри доверительного интервала (27 млн).\n",
    "\n",
    "Таким образом, наиболее перспективным регионом для разработки является регион 1."
   ]
  }
 ],
 "metadata": {
  "kernelspec": {
   "display_name": "Python 3",
   "language": "python",
   "name": "python3"
  },
  "language_info": {
   "codemirror_mode": {
    "name": "ipython",
    "version": 3
   },
   "file_extension": ".py",
   "mimetype": "text/x-python",
   "name": "python",
   "nbconvert_exporter": "python",
   "pygments_lexer": "ipython3",
   "version": "3.8.3"
  },
  "toc": {
   "base_numbering": 1,
   "nav_menu": {},
   "number_sections": true,
   "sideBar": true,
   "skip_h1_title": true,
   "title_cell": "Table of Contents",
   "title_sidebar": "Contents",
   "toc_cell": false,
   "toc_position": {},
   "toc_section_display": true,
   "toc_window_display": false
  }
 },
 "nbformat": 4,
 "nbformat_minor": 2
}
