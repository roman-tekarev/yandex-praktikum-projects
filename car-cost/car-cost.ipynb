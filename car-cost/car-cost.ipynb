{
 "cells": [
  {
   "cell_type": "markdown",
   "metadata": {},
   "source": [
    "# Определение стоимости автомобилей"
   ]
  },
  {
   "cell_type": "markdown",
   "metadata": {},
   "source": [
    "Сервис по продаже автомобилей с пробегом «Не бит, не крашен» разрабатывает приложение для привлечения новых клиентов. В нём можно быстро узнать рыночную стоимость своего автомобиля. В вашем распоряжении исторические данные: технические характеристики, комплектации и цены автомобилей. Вам нужно построить модель для определения стоимости. \n",
    "\n",
    "Заказчику важны:\n",
    "\n",
    "- качество предсказания;\n",
    "- скорость предсказания;\n",
    "- время обучения.\n",
    "\n",
    "### Описание данных\n",
    "\n",
    "#### Признаки\n",
    "DateCrawled — дата скачивания анкеты из базы  \n",
    "VehicleType — тип автомобильного кузова  \n",
    "RegistrationYear — год регистрации автомобиля  \n",
    "Gearbox — тип коробки передач  \n",
    "Power — мощность (л. с.)  \n",
    "Model — модель автомобиля  \n",
    "Kilometer — пробег (км)  \n",
    "RegistrationMonth — месяц регистрации автомобиля  \n",
    "FuelType — тип топлива  \n",
    "Brand — марка автомобиля  \n",
    "NotRepaired — была машина в ремонте или нет  \n",
    "DateCreated — дата создания анкеты  \n",
    "NumberOfPictures — количество фотографий автомобиля  \n",
    "PostalCode — почтовый индекс владельца анкеты (пользователя)  \n",
    "LastSeen — дата последней активности пользователя  \n",
    "\n",
    "#### Целевой признак  \n",
    "Price — цена (евро)\n",
    "\n",
    "\n",
    "#### Часть 1. [Подготовка данных](#part1)\n",
    "* [1. Импорт библиотек.](#part1.1)\n",
    "* [2. Загрузка и изучение данных](#part1.2)\n",
    "* [3. Удаление признаков.](#part1.3)\n",
    "* [4. Удаление объектов](#part1.4)\n",
    "* [5. Заполнение пропусков.](#part1.5)\n",
    "* [6. Кодирование признаков](#part1.6)\n",
    "* [7. Масштабирование признаков](#part1.7)\n",
    "\n",
    "\n",
    "#### Часть 2. [Обучение моделей](#part2)\n",
    "* [2.1 Разбиение данных](#part2.1)\n",
    "* [2.2 Dummy модель](#part2.2)\n",
    "* [2.3 Решающее дерево](#part2.3)\n",
    "* [2.4 Случайный лес](#part2.4)\n",
    "* [2.5 Градиентный бустинг](#part2.5)\n",
    "\n",
    "#### Часть 3. [Анализ моделей](#part3)\n",
    "\n",
    "#### Часть 4. [Общий вывод](#part4)"
   ]
  },
  {
   "cell_type": "markdown",
   "metadata": {},
   "source": [
    "<a id='part1'></a>\n",
    "# 1. Подготовка данных\n",
    "<a id='part1.1'></a>\n",
    "## 1.1 Импорт библиотек"
   ]
  },
  {
   "cell_type": "code",
   "execution_count": 1,
   "metadata": {},
   "outputs": [],
   "source": [
    "import pandas as pd\n",
    "import numpy as np\n",
    "import matplotlib.pyplot as plt\n",
    "from sklearn.preprocessing import scale \n",
    "from sklearn.model_selection import train_test_split\n",
    "from sklearn.model_selection import RandomizedSearchCV, GridSearchCV\n",
    "from sklearn.ensemble import RandomForestRegressor\n",
    "from sklearn.tree import DecisionTreeRegressor\n",
    "from sklearn.preprocessing import OrdinalEncoder\n",
    "from sklearn.linear_model import LinearRegression\n",
    "from sklearn.metrics import mean_squared_error\n",
    "from sklearn.preprocessing import StandardScaler\n",
    "import lightgbm as lgb\n",
    "from sklearn.dummy import DummyRegressor"
   ]
  },
  {
   "cell_type": "markdown",
   "metadata": {},
   "source": [
    "<a id='part1.2'></a>\n",
    "## 1.2 Загрузка и изучение данных"
   ]
  },
  {
   "cell_type": "code",
   "execution_count": 2,
   "metadata": {},
   "outputs": [
    {
     "name": "stdout",
     "output_type": "stream",
     "text": [
      "<class 'pandas.core.frame.DataFrame'>\n",
      "RangeIndex: 354369 entries, 0 to 354368\n",
      "Data columns (total 16 columns):\n",
      "DateCrawled          354369 non-null object\n",
      "Price                354369 non-null int64\n",
      "VehicleType          316879 non-null object\n",
      "RegistrationYear     354369 non-null int64\n",
      "Gearbox              334536 non-null object\n",
      "Power                354369 non-null int64\n",
      "Model                334664 non-null object\n",
      "Kilometer            354369 non-null int64\n",
      "RegistrationMonth    354369 non-null int64\n",
      "FuelType             321474 non-null object\n",
      "Brand                354369 non-null object\n",
      "NotRepaired          283215 non-null object\n",
      "DateCreated          354369 non-null object\n",
      "NumberOfPictures     354369 non-null int64\n",
      "PostalCode           354369 non-null int64\n",
      "LastSeen             354369 non-null object\n",
      "dtypes: int64(7), object(9)\n",
      "memory usage: 43.3+ MB\n"
     ]
    },
    {
     "data": {
      "text/html": [
       "<div>\n",
       "<style scoped>\n",
       "    .dataframe tbody tr th:only-of-type {\n",
       "        vertical-align: middle;\n",
       "    }\n",
       "\n",
       "    .dataframe tbody tr th {\n",
       "        vertical-align: top;\n",
       "    }\n",
       "\n",
       "    .dataframe thead th {\n",
       "        text-align: right;\n",
       "    }\n",
       "</style>\n",
       "<table border=\"1\" class=\"dataframe\">\n",
       "  <thead>\n",
       "    <tr style=\"text-align: right;\">\n",
       "      <th></th>\n",
       "      <th>DateCrawled</th>\n",
       "      <th>Price</th>\n",
       "      <th>VehicleType</th>\n",
       "      <th>RegistrationYear</th>\n",
       "      <th>Gearbox</th>\n",
       "      <th>Power</th>\n",
       "      <th>Model</th>\n",
       "      <th>Kilometer</th>\n",
       "      <th>RegistrationMonth</th>\n",
       "      <th>FuelType</th>\n",
       "      <th>Brand</th>\n",
       "      <th>NotRepaired</th>\n",
       "      <th>DateCreated</th>\n",
       "      <th>NumberOfPictures</th>\n",
       "      <th>PostalCode</th>\n",
       "      <th>LastSeen</th>\n",
       "    </tr>\n",
       "  </thead>\n",
       "  <tbody>\n",
       "    <tr>\n",
       "      <td>0</td>\n",
       "      <td>2016-03-24 11:52:17</td>\n",
       "      <td>480</td>\n",
       "      <td>NaN</td>\n",
       "      <td>1993</td>\n",
       "      <td>manual</td>\n",
       "      <td>0</td>\n",
       "      <td>golf</td>\n",
       "      <td>150000</td>\n",
       "      <td>0</td>\n",
       "      <td>petrol</td>\n",
       "      <td>volkswagen</td>\n",
       "      <td>NaN</td>\n",
       "      <td>2016-03-24 00:00:00</td>\n",
       "      <td>0</td>\n",
       "      <td>70435</td>\n",
       "      <td>2016-04-07 03:16:57</td>\n",
       "    </tr>\n",
       "    <tr>\n",
       "      <td>1</td>\n",
       "      <td>2016-03-24 10:58:45</td>\n",
       "      <td>18300</td>\n",
       "      <td>coupe</td>\n",
       "      <td>2011</td>\n",
       "      <td>manual</td>\n",
       "      <td>190</td>\n",
       "      <td>NaN</td>\n",
       "      <td>125000</td>\n",
       "      <td>5</td>\n",
       "      <td>gasoline</td>\n",
       "      <td>audi</td>\n",
       "      <td>yes</td>\n",
       "      <td>2016-03-24 00:00:00</td>\n",
       "      <td>0</td>\n",
       "      <td>66954</td>\n",
       "      <td>2016-04-07 01:46:50</td>\n",
       "    </tr>\n",
       "    <tr>\n",
       "      <td>2</td>\n",
       "      <td>2016-03-14 12:52:21</td>\n",
       "      <td>9800</td>\n",
       "      <td>suv</td>\n",
       "      <td>2004</td>\n",
       "      <td>auto</td>\n",
       "      <td>163</td>\n",
       "      <td>grand</td>\n",
       "      <td>125000</td>\n",
       "      <td>8</td>\n",
       "      <td>gasoline</td>\n",
       "      <td>jeep</td>\n",
       "      <td>NaN</td>\n",
       "      <td>2016-03-14 00:00:00</td>\n",
       "      <td>0</td>\n",
       "      <td>90480</td>\n",
       "      <td>2016-04-05 12:47:46</td>\n",
       "    </tr>\n",
       "    <tr>\n",
       "      <td>3</td>\n",
       "      <td>2016-03-17 16:54:04</td>\n",
       "      <td>1500</td>\n",
       "      <td>small</td>\n",
       "      <td>2001</td>\n",
       "      <td>manual</td>\n",
       "      <td>75</td>\n",
       "      <td>golf</td>\n",
       "      <td>150000</td>\n",
       "      <td>6</td>\n",
       "      <td>petrol</td>\n",
       "      <td>volkswagen</td>\n",
       "      <td>no</td>\n",
       "      <td>2016-03-17 00:00:00</td>\n",
       "      <td>0</td>\n",
       "      <td>91074</td>\n",
       "      <td>2016-03-17 17:40:17</td>\n",
       "    </tr>\n",
       "    <tr>\n",
       "      <td>4</td>\n",
       "      <td>2016-03-31 17:25:20</td>\n",
       "      <td>3600</td>\n",
       "      <td>small</td>\n",
       "      <td>2008</td>\n",
       "      <td>manual</td>\n",
       "      <td>69</td>\n",
       "      <td>fabia</td>\n",
       "      <td>90000</td>\n",
       "      <td>7</td>\n",
       "      <td>gasoline</td>\n",
       "      <td>skoda</td>\n",
       "      <td>no</td>\n",
       "      <td>2016-03-31 00:00:00</td>\n",
       "      <td>0</td>\n",
       "      <td>60437</td>\n",
       "      <td>2016-04-06 10:17:21</td>\n",
       "    </tr>\n",
       "  </tbody>\n",
       "</table>\n",
       "</div>"
      ],
      "text/plain": [
       "           DateCrawled  Price VehicleType  RegistrationYear Gearbox  Power  \\\n",
       "0  2016-03-24 11:52:17    480         NaN              1993  manual      0   \n",
       "1  2016-03-24 10:58:45  18300       coupe              2011  manual    190   \n",
       "2  2016-03-14 12:52:21   9800         suv              2004    auto    163   \n",
       "3  2016-03-17 16:54:04   1500       small              2001  manual     75   \n",
       "4  2016-03-31 17:25:20   3600       small              2008  manual     69   \n",
       "\n",
       "   Model  Kilometer  RegistrationMonth  FuelType       Brand NotRepaired  \\\n",
       "0   golf     150000                  0    petrol  volkswagen         NaN   \n",
       "1    NaN     125000                  5  gasoline        audi         yes   \n",
       "2  grand     125000                  8  gasoline        jeep         NaN   \n",
       "3   golf     150000                  6    petrol  volkswagen          no   \n",
       "4  fabia      90000                  7  gasoline       skoda          no   \n",
       "\n",
       "           DateCreated  NumberOfPictures  PostalCode             LastSeen  \n",
       "0  2016-03-24 00:00:00                 0       70435  2016-04-07 03:16:57  \n",
       "1  2016-03-24 00:00:00                 0       66954  2016-04-07 01:46:50  \n",
       "2  2016-03-14 00:00:00                 0       90480  2016-04-05 12:47:46  \n",
       "3  2016-03-17 00:00:00                 0       91074  2016-03-17 17:40:17  \n",
       "4  2016-03-31 00:00:00                 0       60437  2016-04-06 10:17:21  "
      ]
     },
     "execution_count": 2,
     "metadata": {},
     "output_type": "execute_result"
    }
   ],
   "source": [
    "data = pd.read_csv('/datasets/autos.csv')\n",
    "data.info()\n",
    "data.head()"
   ]
  },
  {
   "cell_type": "code",
   "execution_count": 3,
   "metadata": {},
   "outputs": [
    {
     "data": {
      "text/plain": [
       "array([1993, 2011, 2004, 2001, 2008, 1995, 1980, 2014, 1998, 2005, 1910,\n",
       "       2016, 2007, 2009, 2002, 2018, 1997, 1990, 2017, 1981, 2003, 1994,\n",
       "       1991, 1984, 2006, 1999, 2012, 2010, 2000, 1992, 2013, 1996, 1985,\n",
       "       1989, 2015, 1982, 1976, 1983, 1973, 1111, 1969, 1971, 1987, 1986,\n",
       "       1988, 1970, 1965, 1945, 1925, 1974, 1979, 1955, 1978, 1972, 1968,\n",
       "       1977, 1961, 1960, 1966, 1975, 1963, 1964, 5000, 1954, 1958, 1967,\n",
       "       1959, 9999, 1956, 3200, 1000, 1941, 8888, 1500, 2200, 4100, 1962,\n",
       "       1929, 1957, 1940, 3000, 2066, 1949, 2019, 1937, 1951, 1800, 1953,\n",
       "       1234, 8000, 5300, 9000, 2900, 6000, 5900, 5911, 1933, 1400, 1950,\n",
       "       4000, 1948, 1952, 1200, 8500, 1932, 1255, 3700, 3800, 4800, 1942,\n",
       "       7000, 1935, 1936, 6500, 1923, 2290, 2500, 1930, 1001, 9450, 1944,\n",
       "       1943, 1934, 1938, 1688, 2800, 1253, 1928, 1919, 5555, 5600, 1600,\n",
       "       2222, 1039, 9996, 1300, 8455, 1931, 1915, 4500, 1920, 1602, 7800,\n",
       "       9229, 1947, 1927, 7100, 8200, 1946, 7500, 3500])"
      ]
     },
     "execution_count": 3,
     "metadata": {},
     "output_type": "execute_result"
    }
   ],
   "source": [
    "data['RegistrationYear'].unique()"
   ]
  },
  {
   "cell_type": "code",
   "execution_count": 4,
   "metadata": {},
   "outputs": [
    {
     "data": {
      "text/plain": [
       "Text(0.5, 0, 'Цена')"
      ]
     },
     "execution_count": 4,
     "metadata": {},
     "output_type": "execute_result"
    },
    {
     "data": {
      "image/png": "[encoded data removed]",
      "text/plain": [
       "<Figure size 720x432 with 1 Axes>"
      ]
     },
     "metadata": {
      "needs_background": "light"
     },
     "output_type": "display_data"
    }
   ],
   "source": [
    "data['Price'][data['Price']<500].hist(bins=50, figsize=(10,6))\n",
    "plt.title('Распределение цен автомобилей менее 500 евро')\n",
    "plt.xlabel('Цена')"
   ]
  },
  {
   "cell_type": "markdown",
   "metadata": {},
   "source": [
    "Присутствуют пропуски в признаках: VehicleType, Gearbox, Model, FuelType, NotRepaired. Все признаки с пропусками - категориальные.\n",
    "\n",
    "В данных есть признаки, использование которых не поможет в определении цены:\n",
    "\n",
    "* DateCrawled (дата скачивания анкеты из базы)\n",
    "* DateCreated (дата создания анкеты)\n",
    "* PostalCode (почтовый индекс владельца\n",
    "* LastSeen (дата последней активности пользователя)\n",
    "* NumberOfPictures (количество фотографий автомобиля)\n",
    "* RegistrationMonth (в данных есть год регистрации, его достаточно)\n",
    "\n",
    "Эти признаки можно удалить.\n",
    "\n",
    "В столбце RegistrationYear присутствуют ошибки (года > 2020 и меньше 1930). Объекты с такими ошибками стоит удалить.\n",
    "\n",
    "В значениях целевого признака для некторых объектов также присутствуют ошибки в виде слишком низкой или нулевой цены. Удалим автомобили с ценой меньше 99 евро."
   ]
  },
  {
   "cell_type": "markdown",
   "metadata": {},
   "source": [
    "<a id='part1.3'></a>\n",
    "## 1.3 Удаление признаков"
   ]
  },
  {
   "cell_type": "code",
   "execution_count": 5,
   "metadata": {
    "scrolled": true
   },
   "outputs": [
    {
     "name": "stdout",
     "output_type": "stream",
     "text": [
      "<class 'pandas.core.frame.DataFrame'>\n",
      "RangeIndex: 354369 entries, 0 to 354368\n",
      "Data columns (total 10 columns):\n",
      "Price               354369 non-null int64\n",
      "VehicleType         316879 non-null object\n",
      "RegistrationYear    354369 non-null int64\n",
      "Gearbox             334536 non-null object\n",
      "Power               354369 non-null int64\n",
      "Model               334664 non-null object\n",
      "Kilometer           354369 non-null int64\n",
      "FuelType            321474 non-null object\n",
      "Brand               354369 non-null object\n",
      "NotRepaired         283215 non-null object\n",
      "dtypes: int64(4), object(6)\n",
      "memory usage: 27.0+ MB\n"
     ]
    }
   ],
   "source": [
    "data = data.drop(columns = ['DateCrawled', 'DateCreated','PostalCode','LastSeen','NumberOfPictures','RegistrationMonth'],\n",
    "                 axis=1)\n",
    "data.info()"
   ]
  },
  {
   "cell_type": "markdown",
   "metadata": {},
   "source": [
    "<a id='part1.4'></a>\n",
    "## 1.4 Удаление объектов"
   ]
  },
  {
   "cell_type": "markdown",
   "metadata": {},
   "source": [
    "Удалим автомобили со стоимостью меньше 100 евро и с годами регистрации до 1900 и после 2020 года."
   ]
  },
  {
   "cell_type": "code",
   "execution_count": 6,
   "metadata": {
    "scrolled": true
   },
   "outputs": [
    {
     "name": "stdout",
     "output_type": "stream",
     "text": [
      "<class 'pandas.core.frame.DataFrame'>\n",
      "Int64Index: 340997 entries, 0 to 354368\n",
      "Data columns (total 10 columns):\n",
      "Price               340997 non-null int64\n",
      "VehicleType         308489 non-null object\n",
      "RegistrationYear    340997 non-null int64\n",
      "Gearbox             324762 non-null object\n",
      "Power               340997 non-null int64\n",
      "Model               324019 non-null object\n",
      "Kilometer           340997 non-null int64\n",
      "FuelType            312726 non-null object\n",
      "Brand               340997 non-null object\n",
      "NotRepaired         276712 non-null object\n",
      "dtypes: int64(4), object(6)\n",
      "memory usage: 28.6+ MB\n"
     ]
    }
   ],
   "source": [
    "data = data.query('Price > 98 & RegistrationYear > 1930 & RegistrationYear < 2020')\n",
    "data.info()"
   ]
  },
  {
   "cell_type": "markdown",
   "metadata": {},
   "source": [
    "<a id='part1.5'></a>\n",
    "## 1.5 Заполнение пропусков\n",
    "\n",
    "Заполним пропуски в категориальных признаках значением \"Unknown\"."
   ]
  },
  {
   "cell_type": "code",
   "execution_count": 7,
   "metadata": {
    "scrolled": false
   },
   "outputs": [
    {
     "name": "stdout",
     "output_type": "stream",
     "text": [
      "<class 'pandas.core.frame.DataFrame'>\n",
      "Int64Index: 340997 entries, 0 to 354368\n",
      "Data columns (total 10 columns):\n",
      "Price               340997 non-null int64\n",
      "VehicleType         340997 non-null object\n",
      "RegistrationYear    340997 non-null int64\n",
      "Gearbox             340997 non-null object\n",
      "Power               340997 non-null int64\n",
      "Model               340997 non-null object\n",
      "Kilometer           340997 non-null int64\n",
      "FuelType            340997 non-null object\n",
      "Brand               340997 non-null object\n",
      "NotRepaired         340997 non-null object\n",
      "dtypes: int64(4), object(6)\n",
      "memory usage: 28.6+ MB\n"
     ]
    }
   ],
   "source": [
    "data[['VehicleType', 'Model','Gearbox','FuelType','NotRepaired']] = \\\n",
    "data[['VehicleType', 'Model','Gearbox','FuelType','NotRepaired']].fillna('unknown')\n",
    "data.info()"
   ]
  },
  {
   "cell_type": "markdown",
   "metadata": {},
   "source": [
    "Для обучения простых моделей признаки необходимо подготовить: категориальные закодировать, а количественные масштабировать.\n",
    "\n",
    "<a id='part1.6'></a>\n",
    "## 1.6 Кодирование признаков"
   ]
  },
  {
   "cell_type": "code",
   "execution_count": 8,
   "metadata": {
    "scrolled": true
   },
   "outputs": [
    {
     "data": {
      "text/html": [
       "<div>\n",
       "<style scoped>\n",
       "    .dataframe tbody tr th:only-of-type {\n",
       "        vertical-align: middle;\n",
       "    }\n",
       "\n",
       "    .dataframe tbody tr th {\n",
       "        vertical-align: top;\n",
       "    }\n",
       "\n",
       "    .dataframe thead th {\n",
       "        text-align: right;\n",
       "    }\n",
       "</style>\n",
       "<table border=\"1\" class=\"dataframe\">\n",
       "  <thead>\n",
       "    <tr style=\"text-align: right;\">\n",
       "      <th></th>\n",
       "      <th>Price</th>\n",
       "      <th>VehicleType</th>\n",
       "      <th>RegistrationYear</th>\n",
       "      <th>Gearbox</th>\n",
       "      <th>Power</th>\n",
       "      <th>Model</th>\n",
       "      <th>Kilometer</th>\n",
       "      <th>FuelType</th>\n",
       "      <th>Brand</th>\n",
       "      <th>NotRepaired</th>\n",
       "    </tr>\n",
       "  </thead>\n",
       "  <tbody>\n",
       "    <tr>\n",
       "      <td>0</td>\n",
       "      <td>480</td>\n",
       "      <td>7</td>\n",
       "      <td>61</td>\n",
       "      <td>1</td>\n",
       "      <td>0</td>\n",
       "      <td>116</td>\n",
       "      <td>150000</td>\n",
       "      <td>6</td>\n",
       "      <td>38</td>\n",
       "      <td>1</td>\n",
       "    </tr>\n",
       "    <tr>\n",
       "      <td>1</td>\n",
       "      <td>18300</td>\n",
       "      <td>2</td>\n",
       "      <td>79</td>\n",
       "      <td>1</td>\n",
       "      <td>190</td>\n",
       "      <td>228</td>\n",
       "      <td>125000</td>\n",
       "      <td>2</td>\n",
       "      <td>1</td>\n",
       "      <td>2</td>\n",
       "    </tr>\n",
       "    <tr>\n",
       "      <td>2</td>\n",
       "      <td>9800</td>\n",
       "      <td>6</td>\n",
       "      <td>72</td>\n",
       "      <td>0</td>\n",
       "      <td>163</td>\n",
       "      <td>117</td>\n",
       "      <td>125000</td>\n",
       "      <td>2</td>\n",
       "      <td>14</td>\n",
       "      <td>1</td>\n",
       "    </tr>\n",
       "    <tr>\n",
       "      <td>3</td>\n",
       "      <td>1500</td>\n",
       "      <td>5</td>\n",
       "      <td>69</td>\n",
       "      <td>1</td>\n",
       "      <td>75</td>\n",
       "      <td>116</td>\n",
       "      <td>150000</td>\n",
       "      <td>6</td>\n",
       "      <td>38</td>\n",
       "      <td>0</td>\n",
       "    </tr>\n",
       "    <tr>\n",
       "      <td>4</td>\n",
       "      <td>3600</td>\n",
       "      <td>5</td>\n",
       "      <td>76</td>\n",
       "      <td>1</td>\n",
       "      <td>69</td>\n",
       "      <td>101</td>\n",
       "      <td>90000</td>\n",
       "      <td>2</td>\n",
       "      <td>31</td>\n",
       "      <td>0</td>\n",
       "    </tr>\n",
       "  </tbody>\n",
       "</table>\n",
       "</div>"
      ],
      "text/plain": [
       "   Price  VehicleType  RegistrationYear  Gearbox  Power  Model  Kilometer  \\\n",
       "0    480            7                61        1      0    116     150000   \n",
       "1  18300            2                79        1    190    228     125000   \n",
       "2   9800            6                72        0    163    117     125000   \n",
       "3   1500            5                69        1     75    116     150000   \n",
       "4   3600            5                76        1     69    101      90000   \n",
       "\n",
       "   FuelType  Brand  NotRepaired  \n",
       "0         6     38            1  \n",
       "1         2      1            2  \n",
       "2         2     14            1  \n",
       "3         6     38            0  \n",
       "4         2     31            0  "
      ]
     },
     "execution_count": 8,
     "metadata": {},
     "output_type": "execute_result"
    }
   ],
   "source": [
    "encoder = OrdinalEncoder()\n",
    "\n",
    "data[['VehicleType','Gearbox','Model','FuelType','Brand','NotRepaired','RegistrationYear']] \\\n",
    "= encoder.fit_transform(data[['VehicleType','Gearbox','Model','FuelType','Brand','NotRepaired','RegistrationYear']])\n",
    "\n",
    "data[['VehicleType','Gearbox','Model','FuelType','Brand','NotRepaired','RegistrationYear']] = \\\n",
    "data[['VehicleType','Gearbox','Model','FuelType','Brand','NotRepaired','RegistrationYear']].astype(int)\n",
    "\n",
    "data.head()"
   ]
  },
  {
   "cell_type": "markdown",
   "metadata": {},
   "source": [
    "<a id='part1.7'></a>\n",
    "## 1.7 Масштабирование признаков"
   ]
  },
  {
   "cell_type": "code",
   "execution_count": 9,
   "metadata": {},
   "outputs": [
    {
     "name": "stdout",
     "output_type": "stream",
     "text": [
      "        VehicleType  RegistrationYear  Gearbox     Power  Model  Kilometer  \\\n",
      "327031            0                74        1 -0.033960    222   0.576616   \n",
      "243473            0                63        1 -0.597304     93   0.576616   \n",
      "94046             4                77        1 -0.114438    102  -1.037835   \n",
      "26789             4                67        1 -0.597304    116   0.576616   \n",
      "277499            7                63        1 -0.168090    166  -0.768760   \n",
      "\n",
      "        FuelType  Brand  NotRepaired  \n",
      "327031         2     38            0  \n",
      "243473         2      9            2  \n",
      "94046          2     10            0  \n",
      "26789          6     38            0  \n",
      "277499         7     35            2  \n",
      "        VehicleType  RegistrationYear  Gearbox     Power  Model  Kilometer  \\\n",
      "53868             8                63        1 -0.114438    136   0.576616   \n",
      "219647            5                72        1  0.277220     80   0.576616   \n",
      "187180            8                79        1 -0.033960    116  -0.768760   \n",
      "205827            5                65        1 -0.355871     83   0.576616   \n",
      "202469            4                66        0 -0.597304     19   0.576616   \n",
      "\n",
      "        FuelType  Brand  NotRepaired  \n",
      "53868          6     27            2  \n",
      "219647         6     21            0  \n",
      "187180         2     38            0  \n",
      "205827         6     24            0  \n",
      "202469         6      2            2  \n"
     ]
    }
   ],
   "source": [
    "X_train, X_test, y_train, y_test = train_test_split(\n",
    "    data.drop('Price', axis=1), data.Price, test_size=0.25, random_state=12345)\n",
    "\n",
    "\n",
    "numeric = ['Power', 'Kilometer']\n",
    "\n",
    "scaler = StandardScaler()\n",
    "scaler.fit(X_train[numeric])\n",
    "X_train[numeric] = scaler.transform(X_train[numeric])\n",
    "X_test[numeric] = scaler.transform(X_test[numeric])\n",
    "print(X_train.head())\n",
    "print(X_test.head())"
   ]
  },
  {
   "cell_type": "markdown",
   "metadata": {},
   "source": [
    "## Вывод\n",
    "\n",
    "Данные загружены и подготовлены. Удалены ненужные признаки и ошибки в данных, заполнены пропуски.   \n",
    "Категориальные признаки закодированы, а количественные масштабированы.  \n",
    "\n",
    "    "
   ]
  },
  {
   "cell_type": "markdown",
   "metadata": {},
   "source": [
    "<a id='part2'></a>\n",
    "# 2. Обучение моделей\n",
    "<a id='part2.1'></a>\n",
    "## 2.1 Разбиение данных\n",
    "\n",
    "Разобьем данные на обучающую и тестовую выборки."
   ]
  },
  {
   "cell_type": "code",
   "execution_count": 10,
   "metadata": {
    "scrolled": true
   },
   "outputs": [
    {
     "data": {
      "text/plain": [
       "(255747, 9)"
      ]
     },
     "metadata": {},
     "output_type": "display_data"
    },
    {
     "data": {
      "text/plain": [
       "(85250, 9)"
      ]
     },
     "metadata": {},
     "output_type": "display_data"
    }
   ],
   "source": [
    "#Разбиение в п. 1.7\n",
    "#X_train, X_test, y_train, y_test = train_test_split(\n",
    "#    data.drop('Price', axis=1), data.Price, test_size=0.25, random_state=12345)\n",
    "\n",
    "display(X_train.shape,X_test.shape)"
   ]
  },
  {
   "cell_type": "markdown",
   "metadata": {},
   "source": [
    "<a id='part2.2'></a>\n",
    "## 2.2 Dummy-модель\n",
    "\n",
    "Для проверки адекватности моделей создадим Dummy модель, всегда предсказывающую медианное значение."
   ]
  },
  {
   "cell_type": "code",
   "execution_count": 11,
   "metadata": {
    "scrolled": true
   },
   "outputs": [
    {
     "name": "stdout",
     "output_type": "stream",
     "text": [
      "RMSE Dummy-модели:\n",
      "4848.6\n"
     ]
    }
   ],
   "source": [
    "dummy_regr = DummyRegressor(strategy=\"median\")\n",
    "dummy_regr.fit(X_train, y_train)\n",
    "dummy_predicts = dummy_regr.predict(X_test)\n",
    "\n",
    "print('RMSE Dummy-модели:')\n",
    "print('{:.1f}'.format(mean_squared_error(dummy_predicts, y_test) ** 0.5))\n"
   ]
  },
  {
   "cell_type": "markdown",
   "metadata": {},
   "source": [
    "<a id='part2.3'></a>\n",
    "## 2.3 Дерево решений\n",
    "Подберем оптимальные параметры модели с помощью RandomizedSearchCV"
   ]
  },
  {
   "cell_type": "code",
   "execution_count": 12,
   "metadata": {},
   "outputs": [],
   "source": [
    "%%script false --no-raise-error\n",
    "#пропуск выполнения ячейки\n",
    "\n",
    "\n",
    "model_dt = DecisionTreeRegressor()\n",
    "\n",
    "model_params = {\n",
    " \n",
    "    'max_depth': [i for i in range(1,30)],\n",
    "    'min_samples_split' : [i for i in range(2,30)],\n",
    "    'min_samples_leaf' : [i for i in range(1,30)],\n",
    "}\n",
    "\n",
    "rs_dt = RandomizedSearchCV(model_dt, model_params, scoring='neg_root_mean_squared_error', n_jobs=-1, n_iter=200)\n",
    "search_rs_dt = rs_dt.fit(X_train,y_train)\n",
    "print('Лучшие гиперпараметры:')\n",
    "print(search_rs_dt.best_estimator_)\n",
    "print('Лучший RMSE:')\n",
    "print(search_rs_dt.best_score_)"
   ]
  },
  {
   "cell_type": "markdown",
   "metadata": {},
   "source": [
    "##### Вывод ячейки:\n",
    "Лучшие гиперпараметры:  \n",
    "DecisionTreeRegressor(max_depth=21, min_samples_leaf=5, min_samples_split=23)  \n",
    "\n",
    "Лучший RMSE:  \n",
    "-1835.5400020022796  "
   ]
  },
  {
   "cell_type": "markdown",
   "metadata": {},
   "source": [
    "Обучим модель"
   ]
  },
  {
   "cell_type": "code",
   "execution_count": 13,
   "metadata": {},
   "outputs": [
    {
     "name": "stdout",
     "output_type": "stream",
     "text": [
      "CPU times: user 844 ms, sys: 190 µs, total: 844 ms\n",
      "Wall time: 862 ms\n"
     ]
    },
    {
     "data": {
      "text/plain": [
       "DecisionTreeRegressor(criterion='mse', max_depth=21, max_features=None,\n",
       "                      max_leaf_nodes=None, min_impurity_decrease=0.0,\n",
       "                      min_impurity_split=None, min_samples_leaf=5,\n",
       "                      min_samples_split=23, min_weight_fraction_leaf=0.0,\n",
       "                      presort=False, random_state=None, splitter='best')"
      ]
     },
     "execution_count": 13,
     "metadata": {},
     "output_type": "execute_result"
    }
   ],
   "source": [
    "%%time\n",
    "model_dt = DecisionTreeRegressor(\n",
    " \n",
    "    max_depth=21,\n",
    "    min_samples_split=23,\n",
    "    min_samples_leaf=5,\n",
    ")\n",
    "model_dt.fit(X_train, y_train)"
   ]
  },
  {
   "cell_type": "markdown",
   "metadata": {},
   "source": [
    "<a id='part2.4'></a>\n",
    "## 2.4 Случайный лес"
   ]
  },
  {
   "cell_type": "markdown",
   "metadata": {},
   "source": [
    "Подберем оптимальные параметры модели с помощью RandomizedSearchCV"
   ]
  },
  {
   "cell_type": "code",
   "execution_count": 14,
   "metadata": {
    "scrolled": true
   },
   "outputs": [],
   "source": [
    "%%script false --no-raise-error\n",
    "#пропуск выполнения ячейки\n",
    "\n",
    "model_rf= RandomForestRegressor()\n",
    "\n",
    "model_params = {\n",
    " \n",
    "    'max_depth': [i for i in range(1,30)],\n",
    "    'min_samples_split' : [i for i in range(2,30)],\n",
    "    'min_samples_leaf' : [i for i in range(1,30)],\n",
    "    'n_estimators' : [i for i in range(20,160,10)]\n",
    "}\n",
    "\n",
    "rs_rf = RandomizedSearchCV(model_rf, model_params, scoring='neg_root_mean_squared_error', n_jobs=-1, n_iter=200)\n",
    "\n",
    "search_rs_rf = rs_rf.fit(X_train,y_train)\n",
    "print('Лучшие гиперпараметры:')\n",
    "print(search_rs_rf.best_estimator_)\n",
    "print('Лучший RMSE:')\n",
    "print(search_rs_rf.best_score_)"
   ]
  },
  {
   "cell_type": "markdown",
   "metadata": {},
   "source": [
    "##### Вывод ячейки:\n",
    "Лучшие гиперпараметры:  \n",
    "RandomForestRegressor(max_depth=29, min_samples_leaf=4, min_samples_split=7,  \n",
    "                      n_estimators=50)  \n",
    "\n",
    "Лучший RMSE:  \n",
    "-1658.4632138962165  "
   ]
  },
  {
   "cell_type": "markdown",
   "metadata": {},
   "source": [
    "Обучим модель"
   ]
  },
  {
   "cell_type": "code",
   "execution_count": 15,
   "metadata": {},
   "outputs": [
    {
     "name": "stdout",
     "output_type": "stream",
     "text": [
      "CPU times: user 31.9 s, sys: 109 ms, total: 32 s\n",
      "Wall time: 32.1 s\n"
     ]
    },
    {
     "data": {
      "text/plain": [
       "RandomForestRegressor(bootstrap=True, criterion='mse', max_depth=29,\n",
       "                      max_features='auto', max_leaf_nodes=None,\n",
       "                      min_impurity_decrease=0.0, min_impurity_split=None,\n",
       "                      min_samples_leaf=4, min_samples_split=7,\n",
       "                      min_weight_fraction_leaf=0.0, n_estimators=50,\n",
       "                      n_jobs=None, oob_score=False, random_state=None,\n",
       "                      verbose=0, warm_start=False)"
      ]
     },
     "execution_count": 15,
     "metadata": {},
     "output_type": "execute_result"
    }
   ],
   "source": [
    "%%time\n",
    "model_rf = RandomForestRegressor(\n",
    " \n",
    "    max_depth=29,\n",
    "    min_samples_split=7,\n",
    "    min_samples_leaf=4,\n",
    "    n_estimators=50\n",
    ")\n",
    "\n",
    "model_rf.fit(X_train, y_train)"
   ]
  },
  {
   "cell_type": "markdown",
   "metadata": {},
   "source": [
    "<a id='part2.5'></a>\n",
    "## 2.5 Градиентный бустинг"
   ]
  },
  {
   "cell_type": "markdown",
   "metadata": {},
   "source": [
    "Определим оптимальные параметры градиентного бустинга с помощью RandomizedSearchCV."
   ]
  },
  {
   "cell_type": "code",
   "execution_count": 16,
   "metadata": {},
   "outputs": [],
   "source": [
    "%%script false --no-raise-error\n",
    "#пропуск выполнения ячейки\n",
    "\n",
    "model_gb = lgb.LGBMRegressor(silent=True)\n",
    "                         \n",
    "param_dist = {'num_leaves': [50,100,300,600],\n",
    "             'max_depth' : [15,25,35,45,55,65],\n",
    "             'learning_rate' : [0.01,0.05,0.1,0.3],\n",
    "             'min_child_weight': [1e-1, 1, 1e1],\n",
    "             'subsample': [0.6,0.7,0.8,0.9], \n",
    "             'colsample_bytree': [0.6,0.7,0.8],\n",
    "             'reg_alpha': [0, 1e-1, 1, 5, 10, 50],\n",
    "             'reg_lambda': [0, 1e-1, 1, 5, 10, 50],\n",
    "             'n_estimators' : [200]\n",
    "             }\n",
    "\n",
    "rs_gb = RandomizedSearchCV(\n",
    "    estimator=model_gb, \n",
    "    param_distributions=param_dist, \n",
    "    scoring='neg_root_mean_squared_error',\n",
    "    n_iter=200,\n",
    "    cv=3,\n",
    "    n_jobs=4\n",
    "    )\n",
    "\n",
    "search_rs_gb = rs_gb.fit(X_train,y_train)\n",
    "print('Лучшие гиперпараметры:')\n",
    "print(search_rs_gb.best_estimator_)\n",
    "print('Лучший RMSE:')\n",
    "print(search_rs_gb.best_score_)"
   ]
  },
  {
   "cell_type": "markdown",
   "metadata": {},
   "source": [
    "##### Вывод ячейки:\n",
    "\n",
    "Лучшие гиперпараметры:  \n",
    "LGBMRegressor(colsample_bytree=0.7, max_depth=55, min_child_weight=10.0,  \n",
    "              n_estimators=200, num_leaves=600, reg_alpha=5, reg_lambda=10,  \n",
    "              subsample=0.7)  \n",
    "              \n",
    "Лучший RMSE:  \n",
    "-1576.2724382810982  "
   ]
  },
  {
   "cell_type": "markdown",
   "metadata": {},
   "source": [
    "Обучим модель"
   ]
  },
  {
   "cell_type": "code",
   "execution_count": 17,
   "metadata": {},
   "outputs": [
    {
     "name": "stdout",
     "output_type": "stream",
     "text": [
      "CPU times: user 1min 23s, sys: 1.11 s, total: 1min 24s\n",
      "Wall time: 1min 25s\n"
     ]
    },
    {
     "data": {
      "text/plain": [
       "LGBMRegressor(boosting_type='gbdt', class_weight=None, colsample_bytree=0.7,\n",
       "              importance_type='split', learning_rate=0.1, max_depth=55,\n",
       "              min_child_samples=20, min_child_weight=10.0, min_split_gain=0.0,\n",
       "              n_estimators=300, n_jobs=-1, num_leaves=600, objective=None,\n",
       "              random_state=None, reg_alpha=5, reg_lambda=10, silent=True,\n",
       "              subsample=0.7, subsample_for_bin=200000, subsample_freq=0)"
      ]
     },
     "execution_count": 17,
     "metadata": {},
     "output_type": "execute_result"
    }
   ],
   "source": [
    "%%time\n",
    "\n",
    "model_gb = lgb.LGBMRegressor(silent=True, n_jobs=-1, n_estimators=300, learning_rate=0.1, colsample_bytree=0.7, \n",
    "                             max_depth=55, min_child_weight=10.0, num_leaves=600,  reg_alpha=5, reg_lambda=10,\n",
    "                             subsample=0.7)\n",
    "\n",
    "model_gb.fit(X_train, y_train)"
   ]
  },
  {
   "cell_type": "markdown",
   "metadata": {},
   "source": [
    "### Вывод\n",
    "\n",
    "Подобраны оптимальные гиперпараметры для моделей. Модели обучены на тренировочных данных.\n",
    "\n",
    "Время обучения:\n",
    "* Модель решашающего дерева\n",
    "    - 836 мс\n",
    "* Модель случайного леса\n",
    "    - 31.1 с\n",
    "* Градиентный бустинг\n",
    "    - 6.7 с  \n",
    "\n",
    "RMSE по результатам кросс-валидации:\n",
    "* Модель решашающего дерева\n",
    "    - 1835.5\n",
    "* Модель случайного леса\n",
    "    - 1658.5\n",
    "* Градиентный бустинг\n",
    "    - 1576.3\n"
   ]
  },
  {
   "cell_type": "markdown",
   "metadata": {},
   "source": [
    "<a id='part3'></a>\n",
    "\n",
    "# 3. Анализ моделей\n",
    "\n",
    "Предскажем тестовые данные на полученных моделях, посчитаем RMSE и время предсказания."
   ]
  },
  {
   "cell_type": "code",
   "execution_count": 18,
   "metadata": {},
   "outputs": [
    {
     "name": "stdout",
     "output_type": "stream",
     "text": [
      "Время предсказания решающего дерева:\n",
      "CPU times: user 30.6 ms, sys: 29 µs, total: 30.7 ms\n",
      "Wall time: 28.8 ms\n",
      "Время предсказания случайного леса:\n",
      "CPU times: user 1.32 s, sys: 0 ns, total: 1.32 s\n",
      "Wall time: 1.34 s\n",
      "Время предсказания градиентного бустинга:\n",
      "CPU times: user 9.04 s, sys: 2.42 ms, total: 9.04 s\n",
      "Wall time: 9.14 s\n"
     ]
    }
   ],
   "source": [
    "print('Время предсказания решающего дерева:')\n",
    "%time predicted_dt = model_dt.predict(X_test)\n",
    "print('Время предсказания случайного леса:')\n",
    "%time predicted_rf = model_rf.predict(X_test)\n",
    "print('Время предсказания градиентного бустинга:')\n",
    "%time predicted_gb = model_gb.predict(X_test)"
   ]
  },
  {
   "cell_type": "code",
   "execution_count": 20,
   "metadata": {
    "scrolled": true
   },
   "outputs": [
    {
     "name": "stdout",
     "output_type": "stream",
     "text": [
      "RMSE решающего дерева: 1815.9\n",
      "RMSE случайного леса: 1649.0\n",
      "RMSE градиентного бустинга: 1553.8\n"
     ]
    }
   ],
   "source": [
    "print('RMSE решающего дерева: {:.1f}'.format((mean_squared_error(y_test, predicted_dt))**0.5))\n",
    "print('RMSE случайного леса: {:.1f}'.format((mean_squared_error(y_test, predicted_rf))**0.5))\n",
    "print('RMSE градиентного бустинга: {:.1f}'.format((mean_squared_error(y_test, predicted_gb))**0.5))"
   ]
  },
  {
   "cell_type": "markdown",
   "metadata": {},
   "source": [
    "## Вывод\n",
    "\n",
    "    \n",
    "||Модель решашающего дерева|Модель случайного леса|Градиентный бустинг|\n",
    "|-|-|-|-|\n",
    "|Время обучения|836 мс|31.1 с|6.7 c|\n",
    "|RMSE по кросс-валидации|1835.5|1658.5|1576.3|\n",
    "| Время предсказания|29.3 мс|1.13 с|1.4 с|\n",
    "| RMSE на тестовых данных|1815.9|1649.0|1553.8|\n"
   ]
  },
  {
   "cell_type": "markdown",
   "metadata": {},
   "source": [
    "<a id='part4'></a>\n",
    "## Общий вывод\n",
    "\n",
    "В результате работы были изучены и подготовлены данные о стоимости автомобилей на основании их характеристик.  \n",
    "Были удалены пропуски, ненужные признаки и ошибочные данные.\n",
    "\n",
    "Методом было обучено три модели (решающее дерево, случайный лес, градиентный бустинг) и методом случайного поиска были подобраны оптимальные гипермапараметры.\n",
    "\n",
    "Все модели выдают значение RMSE лучше, чем RMSE константной модели.\n",
    "\n",
    "Самой быстрой по времени обучения и по времени предсказания стала модель решающего дерева, но эта модель самая неточная.  \n",
    "\n",
    "Самой лучшей оказалась модель градиентного бустинга, причем ее время обучения меньше времени обучения модели случайного леса и время предсказания сопоставимо с моделью случайного леса при большей точности."
   ]
  }
 ],
 "metadata": {
  "kernelspec": {
   "display_name": "Python 3",
   "language": "python",
   "name": "python3"
  },
  "language_info": {
   "codemirror_mode": {
    "name": "ipython",
    "version": 3
   },
   "file_extension": ".py",
   "mimetype": "text/x-python",
   "name": "python",
   "nbconvert_exporter": "python",
   "pygments_lexer": "ipython3",
   "version": "3.8.3"
  },
  "toc": {
   "base_numbering": 1,
   "nav_menu": {},
   "number_sections": true,
   "sideBar": true,
   "skip_h1_title": false,
   "title_cell": "Table of Contents",
   "title_sidebar": "Contents",
   "toc_cell": false,
   "toc_position": {},
   "toc_section_display": true,
   "toc_window_display": false
  }
 },
 "nbformat": 4,
 "nbformat_minor": 4
}
