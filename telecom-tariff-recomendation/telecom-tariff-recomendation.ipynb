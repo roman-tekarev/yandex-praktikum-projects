{
 "cells": [
  {
   "cell_type": "markdown",
   "metadata": {},
   "source": [
    "# Рекомендация тарифов\n",
    "\n",
    "В вашем распоряжении данные о поведении клиентов, которые уже перешли на эти тарифы. Нужно построить модель для задачи классификации, которая выберет подходящий тариф. Предобработка данных не понадобится.\n",
    "\n",
    "Постройте модель с максимально большим значением *accuracy*. Нужно довести долю правильных ответов по крайней мере до 0.75\n",
    "\n",
    "## Описание данных\n",
    "\n",
    "Каждый объект в наборе данных — это информация о поведении одного пользователя за месяц. Известно:  \n",
    "сalls — количество звонков,  \n",
    "minutes — суммарная длительность звонков в минутах,  \n",
    "messages — количество sms-сообщений,  \n",
    "mb_used — израсходованный интернет-трафик в Мб,  \n",
    "is_ultra — каким тарифом пользовался в течение месяца («Ультра» — 1, «Смарт» — 0).\n",
    "\n",
    "\n",
    "#### Часть 1. [Изучение файлов, получение общей информации.](#part1)\n",
    "\n",
    "#### Часть 2. [Разбивка данных на выборки](#part2)\n",
    "\n",
    "#### Часть 3. [Исследование моделей](#part3)\n",
    "* [1. Решающее дерево.](#part3.1)\n",
    "* [2. Случайный лес](#part3.2)\n",
    "* [3. Логистическая регрессия](#part3.3)\n",
    "\n",
    "#### Часть 4. [Проверка на тестовой выборке](#part4)\n",
    "\n",
    "#### Часть 5. [Проверка на адекватность](#part5)\n",
    "\n",
    "#### [Общий вывод](#part6)\n"
   ]
  },
  {
   "cell_type": "markdown",
   "metadata": {},
   "source": [
    "<a id='part1'></a>\n",
    "## 1. Изучение файла, получение общей информации."
   ]
  },
  {
   "cell_type": "code",
   "execution_count": 1,
   "metadata": {},
   "outputs": [
    {
     "name": "stdout",
     "output_type": "stream",
     "text": [
      "<class 'pandas.core.frame.DataFrame'>\n",
      "RangeIndex: 3214 entries, 0 to 3213\n",
      "Data columns (total 5 columns):\n",
      " #   Column    Non-Null Count  Dtype  \n",
      "---  ------    --------------  -----  \n",
      " 0   calls     3214 non-null   float64\n",
      " 1   minutes   3214 non-null   float64\n",
      " 2   messages  3214 non-null   float64\n",
      " 3   mb_used   3214 non-null   float64\n",
      " 4   is_ultra  3214 non-null   int64  \n",
      "dtypes: float64(4), int64(1)\n",
      "memory usage: 125.7 KB\n"
     ]
    },
    {
     "data": {
      "text/html": [
       "<div>\n",
       "<style scoped>\n",
       "    .dataframe tbody tr th:only-of-type {\n",
       "        vertical-align: middle;\n",
       "    }\n",
       "\n",
       "    .dataframe tbody tr th {\n",
       "        vertical-align: top;\n",
       "    }\n",
       "\n",
       "    .dataframe thead th {\n",
       "        text-align: right;\n",
       "    }\n",
       "</style>\n",
       "<table border=\"1\" class=\"dataframe\">\n",
       "  <thead>\n",
       "    <tr style=\"text-align: right;\">\n",
       "      <th></th>\n",
       "      <th>calls</th>\n",
       "      <th>minutes</th>\n",
       "      <th>messages</th>\n",
       "      <th>mb_used</th>\n",
       "      <th>is_ultra</th>\n",
       "    </tr>\n",
       "  </thead>\n",
       "  <tbody>\n",
       "    <tr>\n",
       "      <th>0</th>\n",
       "      <td>40.0</td>\n",
       "      <td>311.90</td>\n",
       "      <td>83.0</td>\n",
       "      <td>19915.42</td>\n",
       "      <td>0</td>\n",
       "    </tr>\n",
       "    <tr>\n",
       "      <th>1</th>\n",
       "      <td>85.0</td>\n",
       "      <td>516.75</td>\n",
       "      <td>56.0</td>\n",
       "      <td>22696.96</td>\n",
       "      <td>0</td>\n",
       "    </tr>\n",
       "    <tr>\n",
       "      <th>2</th>\n",
       "      <td>77.0</td>\n",
       "      <td>467.66</td>\n",
       "      <td>86.0</td>\n",
       "      <td>21060.45</td>\n",
       "      <td>0</td>\n",
       "    </tr>\n",
       "    <tr>\n",
       "      <th>3</th>\n",
       "      <td>106.0</td>\n",
       "      <td>745.53</td>\n",
       "      <td>81.0</td>\n",
       "      <td>8437.39</td>\n",
       "      <td>1</td>\n",
       "    </tr>\n",
       "    <tr>\n",
       "      <th>4</th>\n",
       "      <td>66.0</td>\n",
       "      <td>418.74</td>\n",
       "      <td>1.0</td>\n",
       "      <td>14502.75</td>\n",
       "      <td>0</td>\n",
       "    </tr>\n",
       "    <tr>\n",
       "      <th>5</th>\n",
       "      <td>58.0</td>\n",
       "      <td>344.56</td>\n",
       "      <td>21.0</td>\n",
       "      <td>15823.37</td>\n",
       "      <td>0</td>\n",
       "    </tr>\n",
       "    <tr>\n",
       "      <th>6</th>\n",
       "      <td>57.0</td>\n",
       "      <td>431.64</td>\n",
       "      <td>20.0</td>\n",
       "      <td>3738.90</td>\n",
       "      <td>1</td>\n",
       "    </tr>\n",
       "    <tr>\n",
       "      <th>7</th>\n",
       "      <td>15.0</td>\n",
       "      <td>132.40</td>\n",
       "      <td>6.0</td>\n",
       "      <td>21911.60</td>\n",
       "      <td>0</td>\n",
       "    </tr>\n",
       "    <tr>\n",
       "      <th>8</th>\n",
       "      <td>7.0</td>\n",
       "      <td>43.39</td>\n",
       "      <td>3.0</td>\n",
       "      <td>2538.67</td>\n",
       "      <td>1</td>\n",
       "    </tr>\n",
       "    <tr>\n",
       "      <th>9</th>\n",
       "      <td>90.0</td>\n",
       "      <td>665.41</td>\n",
       "      <td>38.0</td>\n",
       "      <td>17358.61</td>\n",
       "      <td>0</td>\n",
       "    </tr>\n",
       "  </tbody>\n",
       "</table>\n",
       "</div>"
      ],
      "text/plain": [
       "   calls  minutes  messages   mb_used  is_ultra\n",
       "0   40.0   311.90      83.0  19915.42         0\n",
       "1   85.0   516.75      56.0  22696.96         0\n",
       "2   77.0   467.66      86.0  21060.45         0\n",
       "3  106.0   745.53      81.0   8437.39         1\n",
       "4   66.0   418.74       1.0  14502.75         0\n",
       "5   58.0   344.56      21.0  15823.37         0\n",
       "6   57.0   431.64      20.0   3738.90         1\n",
       "7   15.0   132.40       6.0  21911.60         0\n",
       "8    7.0    43.39       3.0   2538.67         1\n",
       "9   90.0   665.41      38.0  17358.61         0"
      ]
     },
     "metadata": {},
     "output_type": "display_data"
    }
   ],
   "source": [
    "# Импортируем библиотеки для работы\n",
    "import pandas as pd\n",
    "\n",
    "from sklearn.metrics import accuracy_score\n",
    "from sklearn.model_selection import train_test_split\n",
    "\n",
    "from sklearn.tree import DecisionTreeClassifier\n",
    "from sklearn.ensemble import RandomForestClassifier\n",
    "from sklearn.linear_model import LogisticRegression\n",
    "\n",
    "df = pd.read_csv('datasets/users_behavior.csv')\n",
    "df.info()\n",
    "display(df.head(10))"
   ]
  },
  {
   "cell_type": "markdown",
   "metadata": {},
   "source": [
    "Согласно условиям, предобработка не требуется.  \n",
    "Данные содержат 4 признака.   \n",
    "Целевой признак принимает два значения, следовательно это задача классификации."
   ]
  },
  {
   "cell_type": "markdown",
   "metadata": {},
   "source": [
    "\n"
   ]
  },
  {
   "cell_type": "markdown",
   "metadata": {},
   "source": [
    "<a id='part2'></a>\n",
    "## 2. Разбивка данных на выборки"
   ]
  },
  {
   "cell_type": "markdown",
   "metadata": {},
   "source": [
    "Спрятанной тестовой выборки нет. Следовательно, разиваем данные в соотношении 3:1:1."
   ]
  },
  {
   "cell_type": "code",
   "execution_count": 2,
   "metadata": {},
   "outputs": [
    {
     "name": "stdout",
     "output_type": "stream",
     "text": [
      "(1928, 5)\n",
      "(643, 5)\n",
      "(643, 5)\n"
     ]
    }
   ],
   "source": [
    "df_train_and_test, df_valid = train_test_split(df, test_size=0.2, random_state=12345)\n",
    "df_train, df_test = train_test_split(df_train_and_test, test_size=0.25, random_state=12345)\n",
    "\n",
    "print(df_train.shape)\n",
    "print(df_test.shape)\n",
    "print(df_valid.shape)"
   ]
  },
  {
   "cell_type": "markdown",
   "metadata": {},
   "source": [
    "Данные разделены на тренировочную(60%), валидационную(20%) и тестовую выборки(20%)."
   ]
  },
  {
   "cell_type": "markdown",
   "metadata": {},
   "source": [
    "<a id='part3'></a>\n",
    "## 3. Исследование моделей"
   ]
  },
  {
   "cell_type": "code",
   "execution_count": 3,
   "metadata": {},
   "outputs": [],
   "source": [
    "# Разделяем признаки и целевой признак\n",
    "\n",
    "features_train = df_train.drop(['is_ultra'], axis=1)\n",
    "target_train = df_train['is_ultra']\n",
    "\n",
    "features_valid = df_valid.drop(['is_ultra'], axis=1)\n",
    "target_valid = df_valid['is_ultra']\n",
    "\n",
    "features_test = df_test.drop(['is_ultra'], axis=1)\n",
    "target_test = df_test['is_ultra']"
   ]
  },
  {
   "cell_type": "markdown",
   "metadata": {},
   "source": [
    "<a id='part3.1'></a>\n",
    "### 3.1 Решающее дерево"
   ]
  },
  {
   "cell_type": "markdown",
   "metadata": {},
   "source": [
    "Проверим, как изменяется accuracy на двух выборках при изменении параметров max_depth и min_samples_leaf"
   ]
  },
  {
   "cell_type": "code",
   "execution_count": 4,
   "metadata": {},
   "outputs": [
    {
     "data": {
      "image/png": "[encoded data removed]",
      "text/plain": [
       "<Figure size 1152x432 with 2 Axes>"
      ]
     },
     "metadata": {
      "needs_background": "light"
     },
     "output_type": "display_data"
    }
   ],
   "source": [
    "import matplotlib.pyplot as plt\n",
    "j=0\n",
    "fig, ax = plt.subplots(1,2,figsize=(16,6))\n",
    "for param in ['max_depth','min_samples_leaf']:\n",
    "    accuracy_list=[]\n",
    "    \n",
    "    for i in range(1,31):\n",
    "        if param == 'max_depth':\n",
    "            model = DecisionTreeClassifier(random_state=12345,max_depth=i)\n",
    "        elif param == 'min_samples_leaf':\n",
    "            model = DecisionTreeClassifier(random_state=12345,min_samples_leaf=i)\n",
    "        \n",
    "        model.fit(features_train, target_train)\n",
    "    \n",
    "        valid_predictions = model.predict(features_valid)\n",
    "        train_predictions = model.predict(features_train)\n",
    "        accuracy_train = accuracy_score(target_train, train_predictions)\n",
    "        accuracy_valid = accuracy_score(target_valid, valid_predictions)\n",
    "        accuracy_list.append([i, accuracy_valid, accuracy_train])\n",
    "    DecisionTree_accuracy = pd.DataFrame(accuracy_list,\n",
    "                                             columns=['param','accuracy_valid','accuracy_train'])\n",
    "    x = DecisionTree_accuracy['param']\n",
    "    y1 = DecisionTree_accuracy['accuracy_valid']\n",
    "    y2 = DecisionTree_accuracy['accuracy_train']\n",
    "    ax[j].plot(x,y1,y2)\n",
    "    title = 'Изменение параметра ' + param\n",
    "    ax[j].set_title(title)\n",
    "    ax[j].set_xlabel(param)\n",
    "    ax[j].set_ylabel('accuracy')\n",
    "    ax[j].grid()\n",
    "    ax[j].set_xticks([i for i in range(0,35,5)])\n",
    "    j+=1"
   ]
  },
  {
   "cell_type": "markdown",
   "metadata": {},
   "source": [
    "Как видно из графиков, после значения max_depth=8, точность модели на валидационной выборке начинает резко падать, модель начинает переобучаться. Следовательно, перебирать будем значения от 1 до 8.\n",
    "\n",
    "При увеличении параметра min_samples_leaf точность на обучающей выборке падает, а на валидационной растет.  \n",
    "Перебирать будем значения от 10 до 14.\n",
    "\n",
    "В данных 4 признака, так что значения max_features будем перебирать от 1 до 4.\n",
    "\n",
    "Найдем наиболее удачную модель с помощью GridSearchCV."
   ]
  },
  {
   "cell_type": "code",
   "execution_count": 5,
   "metadata": {},
   "outputs": [
    {
     "name": "stdout",
     "output_type": "stream",
     "text": [
      "Лучшие параметры модели DecisionTreeClassifier:\n"
     ]
    },
    {
     "data": {
      "text/plain": [
       "{'max_depth': 6, 'max_features': 3, 'min_samples_leaf': 13}"
      ]
     },
     "metadata": {},
     "output_type": "display_data"
    },
    {
     "name": "stdout",
     "output_type": "stream",
     "text": [
      "Accuracy на тестовой выборке:  0.8106856873696252\n"
     ]
    }
   ],
   "source": [
    "from sklearn.model_selection import GridSearchCV\n",
    "model = DecisionTreeClassifier(random_state=12345)\n",
    "depth =   [i for i in range(1,9)]\n",
    "leafs =   [i for i in range(10,15)]\n",
    "features = [i for i in range(1,5)]\n",
    "\n",
    "dec_tree_params = {'max_depth': depth, 'min_samples_leaf': leafs, \n",
    "                   'max_features':features}\n",
    "grid = GridSearchCV(model,dec_tree_params,scoring='accuracy',n_jobs=-1)\n",
    "grid.fit(features_train,target_train)\n",
    "print('Лучшие параметры модели DecisionTreeClassifier:')\n",
    "display(grid.best_params_)\n",
    "print('Accuracy на тестовой выборке: ',grid.best_score_)"
   ]
  },
  {
   "cell_type": "code",
   "execution_count": 6,
   "metadata": {},
   "outputs": [
    {
     "name": "stdout",
     "output_type": "stream",
     "text": [
      "Accuracy на валидационной выборке:\n",
      "0.7931570762052877\n"
     ]
    }
   ],
   "source": [
    "model = DecisionTreeClassifier(random_state=12345, max_depth=grid.best_params_['max_depth'],\n",
    "                               min_samples_leaf=grid.best_params_['min_samples_leaf'], \n",
    "                               max_features=grid.best_params_['max_features'])\n",
    "model.fit(features_train, target_train)\n",
    "valid_predictions = model.predict(features_valid)\n",
    "print('Accuracy на валидационной выборке:')\n",
    "print(accuracy_score(target_valid, valid_predictions))"
   ]
  },
  {
   "cell_type": "markdown",
   "metadata": {},
   "source": [
    "### Вывод\n",
    "Лучшие параметры решающего дерева:  \n",
    "max_depth = 6  \n",
    "max_features = 3    \n",
    "min_samples_leaf = 13  \n",
    "\n",
    "Accuracy на тестовой выборке:  0.8106856873696252  \n",
    "Accuracy на валидационной выборке: 0.7947122861586314  "
   ]
  },
  {
   "cell_type": "markdown",
   "metadata": {},
   "source": [
    "<a id='part3.2'></a>\n",
    "### 3.2 Случайный лес"
   ]
  },
  {
   "cell_type": "code",
   "execution_count": 7,
   "metadata": {},
   "outputs": [
    {
     "data": {
      "image/png": "[encoded data removed]",
      "text/plain": [
       "<Figure size 1152x432 with 2 Axes>"
      ]
     },
     "metadata": {
      "needs_background": "light"
     },
     "output_type": "display_data"
    }
   ],
   "source": [
    "j=0\n",
    "fig, ax = plt.subplots(1,2,figsize=(16,6))\n",
    "for param in ['max_depth','min_samples_leaf']:\n",
    "    accuracy_list=[]\n",
    "    \n",
    "    for i in range(1,26):\n",
    "        if param == 'max_depth':\n",
    "            model = RandomForestClassifier(random_state=12345,max_depth=i)\n",
    "        elif param == 'min_samples_leaf':\n",
    "            model = RandomForestClassifier(random_state=12345,min_samples_leaf=i)\n",
    "                       \n",
    "        model.fit(features_train, target_train)\n",
    "    \n",
    "        valid_predictions = model.predict(features_valid)\n",
    "        train_predictions = model.predict(features_train)\n",
    "        accuracy_train = accuracy_score(target_train, train_predictions)\n",
    "        accuracy_valid = accuracy_score(target_valid, valid_predictions)\n",
    "        \n",
    "        accuracy_list.append([i, accuracy_valid, accuracy_train])\n",
    "        \n",
    "    DecisionTree_accuracy = pd.DataFrame(accuracy_list,\n",
    "                                             columns=['param','accuracy_valid','accuracy_train'])\n",
    "    x = DecisionTree_accuracy['param']\n",
    "    y1 = DecisionTree_accuracy['accuracy_valid']\n",
    "    y2 = DecisionTree_accuracy['accuracy_train']\n",
    "    ax[j].plot(x,y1,y2)\n",
    "    title = 'Изменение параметра ' + param\n",
    "    ax[j].set_title(title)\n",
    "    ax[j].set_xlabel(param)\n",
    "    ax[j].set_ylabel('accuracy')\n",
    "    ax[j].grid()\n",
    "    ax[j].set_xticks([i for i in range(0,30,5)])\n",
    "    j+=1"
   ]
  },
  {
   "cell_type": "markdown",
   "metadata": {},
   "source": [
    "Как видно из графиков, точность валидационной выборки не сильно изменяется при изменении значения max_depth, тогда как точность обучающей выборки растет.  \n",
    "Для перебора выберем значения от 6 до 14.\n",
    "\n",
    "При увеличении параметра min_samples_leaf точность на обучающей выборке падает, а на валидационной практически не изменяется.  \n",
    "Перебирать будем значения от 10 до 14.\n",
    "\n",
    "n_estimators будем перебирать от 10 до 200 с шагом 10. \n",
    "\n",
    "В данных 4 признака, так что значения max_features будем перебирать от 1 до 4.\n",
    "\n",
    "Найдем наиболее удачную модель с помощью GridSearchCV."
   ]
  },
  {
   "cell_type": "code",
   "execution_count": 8,
   "metadata": {},
   "outputs": [
    {
     "name": "stdout",
     "output_type": "stream",
     "text": [
      "Лучшие параметры модели RandomForestClassifier:\n"
     ]
    },
    {
     "data": {
      "text/plain": [
       "{'max_depth': 16,\n",
       " 'max_features': 2,\n",
       " 'min_samples_leaf': 10,\n",
       " 'n_estimators': 80}"
      ]
     },
     "metadata": {},
     "output_type": "display_data"
    },
    {
     "name": "stdout",
     "output_type": "stream",
     "text": [
      "Accuracy на тестовой выборке:  0.8205410133907544\n"
     ]
    }
   ],
   "source": [
    "model = RandomForestClassifier(random_state=12345)\n",
    "\n",
    "depth =   [9,10,14,16]\n",
    "leafs =   [i for i in range(10,14)]\n",
    "estim = [i for i in range(10,100,10)]\n",
    "features = [i for i in range(1,5)]\n",
    "\n",
    "ran_for_params = {'max_depth': depth, 'min_samples_leaf': leafs, \n",
    "                   'n_estimators':estim , 'max_features':features}\n",
    "grid = GridSearchCV(model,ran_for_params,scoring='accuracy',n_jobs=1)\n",
    "grid.fit(features_train,target_train)\n",
    "print('Лучшие параметры модели RandomForestClassifier:')\n",
    "display(grid.best_params_)\n",
    "print('Accuracy на тестовой выборке: ',grid.best_score_)"
   ]
  },
  {
   "cell_type": "code",
   "execution_count": 9,
   "metadata": {},
   "outputs": [
    {
     "name": "stdout",
     "output_type": "stream",
     "text": [
      "Accuracy на валидационной выборке:\n",
      "0.7947122861586314\n"
     ]
    }
   ],
   "source": [
    "model = RandomForestClassifier(random_state=12345, max_depth=grid.best_params_['max_depth'],\n",
    "                               min_samples_leaf=grid.best_params_['min_samples_leaf'], \n",
    "                               n_estimators = grid.best_params_['n_estimators'],\n",
    "                               max_features=grid.best_params_['max_features'])\n",
    "model.fit(features_train, target_train)\n",
    "valid_predictions = model.predict(features_valid)\n",
    "print('Accuracy на валидационной выборке:')\n",
    "print(accuracy_score(target_valid, valid_predictions))"
   ]
  },
  {
   "cell_type": "markdown",
   "metadata": {},
   "source": [
    "### Вывод\n",
    "Лучшие параметры случайного леса:  \n",
    "max_depth = 16  \n",
    "max_features = 2      \n",
    "min_samples_leaf = 10  \n",
    "n_estimators = 80  \n",
    "\n",
    "Accuracy на тестовой выборке:  0.8205410133907544  \n",
    "Accuracy на валидационной выборке: 0.80248833592535  "
   ]
  },
  {
   "cell_type": "markdown",
   "metadata": {},
   "source": [
    "<a id='part3.3'></a>\n",
    "### 3.3 Логистическая регрессия"
   ]
  },
  {
   "cell_type": "code",
   "execution_count": 10,
   "metadata": {},
   "outputs": [
    {
     "name": "stdout",
     "output_type": "stream",
     "text": [
      "Лучшие параметры модели RandomForestClassifier:\n"
     ]
    },
    {
     "data": {
      "text/plain": [
       "{'C': 0.01, 'max_iter': 100}"
      ]
     },
     "metadata": {},
     "output_type": "display_data"
    },
    {
     "name": "stdout",
     "output_type": "stream",
     "text": [
      "Accuracy на тестовой выборке:  0.7339196554740596\n"
     ]
    }
   ],
   "source": [
    "model = LogisticRegression(random_state=12345)\n",
    "iters =   [i for i in range(100,1000,100)]\n",
    "C = [0.0001,0.001,0.01,0,1,10,100]\n",
    "\n",
    "\n",
    "log_reg_params = {'max_iter': iters, 'C': C}\n",
    "                   \n",
    "\n",
    "grid = GridSearchCV(model,log_reg_params,scoring='accuracy',n_jobs=-1)\n",
    "grid.fit(features_train,target_train)\n",
    "print('Лучшие параметры модели RandomForestClassifier:')\n",
    "display(grid.best_params_)\n",
    "print('Accuracy на тестовой выборке: ',grid.best_score_)"
   ]
  },
  {
   "cell_type": "code",
   "execution_count": 11,
   "metadata": {},
   "outputs": [
    {
     "name": "stdout",
     "output_type": "stream",
     "text": [
      "Accuracy на валидационной выборке:\n",
      "0.702954898911353\n"
     ]
    }
   ],
   "source": [
    "model = LogisticRegression(random_state=12345, max_iter=grid.best_params_['max_iter'],\n",
    "                               C=grid.best_params_['C'])\n",
    "                               \n",
    "model.fit(features_train, target_train)\n",
    "valid_predictions = model.predict(features_valid)\n",
    "print('Accuracy на валидационной выборке:')\n",
    "print(accuracy_score(target_valid, valid_predictions))"
   ]
  },
  {
   "cell_type": "markdown",
   "metadata": {},
   "source": [
    "### Вывод\n",
    "\n",
    "Исследовано три модели: дерево решений, случайный лес и логистическая регрессия.  \n",
    "Для каждой из моделей методом GridSearchCV былы найдены лучшие значения гиперпараметров.  \n",
    "Для дерева решений исследовались гиперпараметры max_depth, max_features, min_samples_leaf.  \n",
    "Для случайного леса исследовались гиперпараметры max_depth, max_features, min_samples_leaf, n_estimators.  \n",
    "Для логистической регрессии исследовались параметры iters, C.  \n",
    "\n",
    "Самые высокие значения accuracy оказались у случайного леса с параметрами: \n",
    "* max_depth = 16  \n",
    "* max_features = 2      \n",
    "* min_samples_leaf = 10  \n",
    "* n_estimators = 80  "
   ]
  },
  {
   "cell_type": "markdown",
   "metadata": {},
   "source": [
    "<a id='part4'></a>\n",
    "## 4. Проверка модели на тестовой выборке"
   ]
  },
  {
   "cell_type": "code",
   "execution_count": 12,
   "metadata": {},
   "outputs": [
    {
     "name": "stdout",
     "output_type": "stream",
     "text": [
      "Accuracy на тестовой выборке:\n",
      "0.7931570762052877\n"
     ]
    }
   ],
   "source": [
    "model = RandomForestClassifier(random_state=135, max_depth=16, min_samples_leaf=10, \n",
    "                               n_estimators=80, max_features=2)\n",
    "model.fit(features_train, target_train)\n",
    "test_predictions = model.predict(features_test)\n",
    "print('Accuracy на тестовой выборке:')\n",
    "print(accuracy_score(target_test, test_predictions))"
   ]
  },
  {
   "cell_type": "markdown",
   "metadata": {},
   "source": [
    "### Вывод\n",
    "Точность выбранной модели на тренировочной, валидационной и тестовой выборках изменяется в пределах 2%.  \n",
    "\n",
    "* Accuracy(тренировочная)   = 0.8205410133907544\n",
    "\n",
    "* Accuracy(валидационная)   = 0.80248833592535\n",
    "\n",
    "* Accuracy(тестовая)        = 0.7931570762052877\n"
   ]
  },
  {
   "cell_type": "markdown",
   "metadata": {},
   "source": [
    "<a id='part5'></a>\n",
    "## 5. Проверка модели на адекватность"
   ]
  },
  {
   "cell_type": "code",
   "execution_count": 13,
   "metadata": {},
   "outputs": [
    {
     "name": "stdout",
     "output_type": "stream",
     "text": [
      "Accuracy most_frequent: 0.6889580093312597\n",
      "Accuracy stratified: 0.6003110419906688\n"
     ]
    }
   ],
   "source": [
    "from sklearn.dummy import DummyClassifier\n",
    "\n",
    "strategies = ['most_frequent', 'stratified']\n",
    "\n",
    "scores = []\n",
    "\n",
    "for s in strategies:\n",
    "\n",
    "    dummy = DummyClassifier(strategy = s, random_state = 12345)\n",
    "    dummy.fit(features_train, target_train)\n",
    "    accuracy = dummy.score(features_test, target_test)\n",
    "    scores.append(accuracy)\n",
    "\n",
    "print('Accuracy most_frequent:',scores[0])\n",
    "print('Accuracy stratified:',scores[1])"
   ]
  },
  {
   "cell_type": "markdown",
   "metadata": {},
   "source": [
    "### Вывод\n",
    "Accuracy DummyClassifier на тренировочных данных заметно ниже, чем accuracy выбранной модели."
   ]
  },
  {
   "cell_type": "markdown",
   "metadata": {},
   "source": [
    "<a id='part6'></a>\n",
    "## Общий вывод\n",
    "\n",
    "В результате работы было проверено три модели: дерево решений, случайный лес и логистическая регрессия.  \n",
    "Каждая модель была исследована и методом GridSearchCV были подобраны оптимальные значения гиперпараметров.  \n",
    "\n",
    "В результате исследования оказалось, что наиболее удачной моделью стал случайный лес(RandomForestClassifier) со следующими параметрами:\n",
    "* max_depth = 16\n",
    "* max_features = 2\n",
    "* min_samples_leaf = 10\n",
    "* n_estimators = 80\n",
    "\n",
    "Точность выбранной модели была проверена на тестовой выборке, а также проверена на адекватность путем сравнения с DummyClassifier.\n",
    "\n",
    "Accuracy(тренировочная) = 0.8205410133907544  \n",
    "Accuracy(валидационная) = 0.80248833592535  \n",
    "Accuracy(тестовая) = 0.7931570762052877  \n",
    "\n",
    "Accuracy Dummy most_frequent = 0.6889580093312597  \n",
    "Accuracy Dummy stratified: = 0.6003110419906688"
   ]
  },
  {
   "cell_type": "code",
   "execution_count": null,
   "metadata": {},
   "outputs": [],
   "source": []
  }
 ],
 "metadata": {
  "kernelspec": {
   "display_name": "Python 3",
   "language": "python",
   "name": "python3"
  },
  "language_info": {
   "codemirror_mode": {
    "name": "ipython",
    "version": 3
   },
   "file_extension": ".py",
   "mimetype": "text/x-python",
   "name": "python",
   "nbconvert_exporter": "python",
   "pygments_lexer": "ipython3",
   "version": "3.8.3"
  },
  "toc": {
   "base_numbering": 1,
   "nav_menu": {},
   "number_sections": true,
   "sideBar": true,
   "skip_h1_title": true,
   "title_cell": "Table of Contents",
   "title_sidebar": "Contents",
   "toc_cell": false,
   "toc_position": {},
   "toc_section_display": true,
   "toc_window_display": false
  }
 },
 "nbformat": 4,
 "nbformat_minor": 4
}
